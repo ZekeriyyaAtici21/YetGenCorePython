{
  "cells": [
    {
      "cell_type": "markdown",
      "metadata": {
        "id": "tsD4YVAe_Te2"
      },
      "source": [
        "# Problem 1\n",
        "Bir sayının 7'ye bölünebilir olup olmadığını kontrol etmek \n",
        "için bir program yazın.\n",
        "\n",
        "İpucu: Mod operatörünü (%) kullanabilirsiniz."
      ]
    },
    {
      "cell_type": "code",
      "execution_count": 2,
      "metadata": {
        "id": "NGjvNwKx_Te7"
      },
      "outputs": [
        {
          "name": "stdout",
          "output_type": "stream",
          "text": [
            "Bu sayi 7'ye tam bölünemez\n"
          ]
        }
      ],
      "source": [
        "sayi = int(input(\"Sayiyi giriniz : \"))\n",
        "\n",
        "if sayi %7 == 0 :\n",
        "    print(\"Sayi 7' ye tam bölünebilir\")\n",
        "else:\n",
        "    print(\"Bu sayi 7'ye tam bölünemez\")"
      ]
    },
    {
      "cell_type": "markdown",
      "metadata": {
        "id": "Kg3qiBAI_Te8"
      },
      "source": [
        "# Problem 2\n",
        "Kullanıcıdan vize ve final notu isteyin. Girilen vize notunun %40’ı ve \n",
        "girilen finalnotunun ise %60’ı alınarak yıl sonu not ortalaması hesaplanacaktır. \n",
        "\n",
        "Bu not ortalaması eğer 85 ve üzeri ise AA, \n",
        "\n",
        "75 ve 85 arasında ise BA, \n",
        "\n",
        "70 ve 75 arasında ise BB, \n",
        "\n",
        "65 ve 70 arasında ise CB,\n",
        "\n",
        "60 ve 65 arasında ise CC,\n",
        "\n",
        "55 ve 60 arasında ise DC,\n",
        "\n",
        "50 ve 55 arasında ise DD olarak hesaplanacaktır. \n",
        "\n",
        "Bu öğrencinin yıl sonu toplam notu 50’nin altında ise FF ile dersten kalacaktır. \n",
        "\n",
        "Ayrıca öğrencinin final notu 50’nin altında ise direkt FF ile kalacaktır."
      ]
    },
    {
      "cell_type": "code",
      "execution_count": 12,
      "metadata": {
        "id": "MXTtCxI1_Te8"
      },
      "outputs": [
        {
          "name": "stdout",
          "output_type": "stream",
          "text": [
            "Vizeniz :30\n",
            " Finaliniz : 80\n",
            " Ortalamaniz: 60.0 \n",
            "Harf Notunuz : CC\n"
          ]
        }
      ],
      "source": [
        "vize = int(input(\"Vize notunuz : \"))\n",
        "final = int(input(\"Final notunuz : \"))\n",
        "\n",
        "vizeOrt = vize * (40/100)\n",
        "finalOrt = final * (60/100)\n",
        "\n",
        "sonucPuan = (vizeOrt + finalOrt)\n",
        "print(f\" Vizeniz :{vize}\\n Finaliniz : {final}\\n Ortalamaniz: {sonucPuan} \")\n",
        "\n",
        "if sonucPuan >= 85 :\n",
        "    print(\"Harf Notunuz : AA\")\n",
        "elif 75 <=sonucPuan < 85 : \n",
        "    print(\"Harf Notunuz : BA\")\n",
        "elif 70 <= sonucPuan < 75:\n",
        "    print(\"Harf Notunuz : BB\")\n",
        "elif 65 <= sonucPuan < 70 : \n",
        "    print(\"Harf Notunuz : CB\")\n",
        "elif 60 <= sonucPuan < 65 : \n",
        "    print(\"Harf Notunuz : CC\")\n",
        "elif 55 <= sonucPuan < 60 :\n",
        "    print(\"Harf Notunuz : DC\")\n",
        "elif 50 <= sonucPuan < 55 :\n",
        "    print(\"Harf Notunuz : DD\")\n",
        "else:\n",
        "    print(\"Harf Notunuz : FF\")"
      ]
    },
    {
      "cell_type": "markdown",
      "metadata": {
        "id": "tAoRYCTC_Te8"
      },
      "source": [
        "# Problem 3\n",
        "İki YetGenli Zirve'de karşılaşıyorlar. Birbirlerini tanımak için sorular soruyorlar. Birbirlerine yaşlarını soruyorlar. Akıllarına bir Python programı yazıp, yaşlarını ve isimlerini giriyorlar. Büyük olanın yaşını ekrana yazdıran programı yazıyorlar. Sende bu iki YetGenli'ye destek olmak ister misin?\n",
        "\n",
        "```\n",
        "Birinci YetGenlinin ismi: Ahmet\n",
        "Birinci YetGenlinin yaşı : 20\n",
        "İkinci YetGenlinin ismi: Mehmet\n",
        "İkinci YetGenlinin yaşı : 25\n",
        "Mehmet'in yaşı daha büyük ve yaşı 25'tir.\n",
        "```"
      ]
    },
    {
      "cell_type": "code",
      "execution_count": 10,
      "metadata": {
        "id": "bPjE8W0i_Te8"
      },
      "outputs": [
        {
          "name": "stdout",
          "output_type": "stream",
          "text": [
            "Ömer'in yasi daha büyüktür ve yasi 24'dir.\n"
          ]
        }
      ],
      "source": [
        "Per1 = input(\"Birinci YetGenlinin ismi:\")              #input Hasan 19 yasinda.\n",
        "Per1Age = int(input(\"Birinci YetGenlinin yasi: \"))\n",
        "\n",
        "Per2 = input(\"İkinci YetGenlinin ismi :\")              #input Ömer 24 yasinda.\n",
        "Per2Age = int(input(\"İkinici YetGenlinin yasi : \"))\n",
        "\n",
        "if Per1Age != Per2Age : \n",
        "    if Per2Age > Per1Age : \n",
        "        print(f\"{Per2}'in yasi daha büyüktür ve yasi {Per2Age}'dir. \" )\n",
        "    else : \n",
        "        print(f\"{Per1}'in yasi daha büyüktür ve yasi {Per1Age}'dir.\")\n",
        "else :\n",
        "    print(f\"İki YetGenli ayni yastadirlar ve yaşlari {Per1Age}'dir.\")"
      ]
    },
    {
      "cell_type": "markdown",
      "metadata": {
        "id": "zBVv8Tyg_Te9"
      },
      "source": [
        "# Problem 4\n",
        "Pandemi döneminde AVM'lerde ateş ölçümü yapılıyor. AVM'ye giren kişinin ateş ölçümü 37.5 derecenin altında ise girişe izin veriliyor. 37.5 derecenin üstünde ise girişe izin verilmiyor. AVM'ye girişe izin verilip verilmediğini ekrana yazdıran bir program yazın.\n",
        "\n",
        "Program sonunda şöyle bir çıktı elde etmelisiniz:\n",
        "\n",
        "```\n",
        "Ateşiniz 37.5 derece. AVM'ye girebilirsin! Maske takmayı unutma!\n",
        "Ateşiniz 37.6 derece. AVM'ye giremezsin! Hemen evine dön!\n",
        "```"
      ]
    },
    {
      "cell_type": "code",
      "execution_count": 5,
      "metadata": {
        "id": "TSAXs8et_Te9"
      },
      "outputs": [
        {
          "name": "stdout",
          "output_type": "stream",
          "text": [
            "Ateşiniz : 38 derece. AVM'ye giremezsiniz. Lütfen evinize dönünüz\n"
          ]
        }
      ],
      "source": [
        "atesOlcüm = int(input(\"Ölçülmüş ateş orani :\"))\n",
        "\n",
        "idealSicaklik = 37.5\n",
        "\n",
        "if idealSicaklik > atesOlcüm:\n",
        "    print(f\"Ateşiniz : {atesOlcüm} derece. AVM'ye girebilirsiniz. Maske takmayi unutmayiniz\")\n",
        "else:\n",
        "    print(f\"Ateşiniz : {atesOlcüm} derece. AVM'ye giremezsiniz. Lütfen evinize dönünüz\")"
      ]
    },
    {
      "cell_type": "markdown",
      "metadata": {
        "id": "6AEkZrDt_Te9"
      },
      "source": [
        "# Problem 5\n",
        "YetGen bir spor kulübüyle sponsorluk anlaşması yapıyor. Kulüp, sponsorluk anlaşmasına göre her YetGen liderinin beden kitle indeksini hesaplamak istiyor. Spor kulübü, beden kitle indeksini hesaplamak için YetGen Jump Python liderlerinden Berkcan ve Ahmet'i arıyor. Berkcan ve Ahmet, kulübe yardımcı olmak için bir Python programı yazıyorlar. Sende bu iki YetGen liderine destek olmak ister misin?\n",
        "\n",
        "Kullanıcıdan alınan boy ve kilo değerlerine göre beden kitle indeksini hesaplayın ve şu kurallara göre ekrana şu yazıları yazdırın.\n",
        "\n",
        "\n",
        "Beden Kitle İndeksi, kişinin ağırlığının (kg olarak) boyunun karesine (m olarak) bölünmesiyle hesaplanır.\n",
        "\n",
        "\n",
        "```\n",
        " BKİ 18.5'un altındaysa -------> Zayıf\n",
        "\n",
        " BKİ 18.5 ile 25 arasındaysa ------> Normal\n",
        "\n",
        " BKİ 25 ile 30 arasındaysa --------> Fazla Kilolu\n",
        "\n",
        " BKİ 30'un üstündeyse -------------> Obez\n",
        "```\n",
        "\n"
      ]
    },
    {
      "cell_type": "code",
      "execution_count": 36,
      "metadata": {
        "id": "t-XPI_u0_Te-"
      },
      "outputs": [
        {
          "name": "stdout",
          "output_type": "stream",
          "text": [
            "Sonucuz : 30.555555555555554.\n",
            " Siz obezsiniz.\n"
          ]
        }
      ],
      "source": [
        "boy = float(input(\"Boyunuzu giriniz (m): \"))\n",
        "agirlik = int(input(\"Kilonuzu giriniz (kg): \"))\n",
        "\n",
        "bedenKitleEndeksi = agirlik / (boy*boy)\n",
        "\n",
        "if bedenKitleEndeksi < 18.5:\n",
        "    print(f\"Sonucuz : {bedenKitleEndeksi}.\\n Siz zayıfsınız\")\n",
        "elif 18.5<= bedenKitleEndeksi < 25:\n",
        "    print(f\"Sonucuz : {bedenKitleEndeksi}.\\n Siz normal kilonuzdasiniz.\")\n",
        "elif 25 <= bedenKitleEndeksi < 30 :\n",
        "    print(f\"Sonucuz : {bedenKitleEndeksi}.\\n Siz fazla kilolusunuz\")\n",
        "else:\n",
        "    print(f\"Sonucuz : {bedenKitleEndeksi}.\\n Siz obezsiniz.\")"
      ]
    },
    {
      "cell_type": "markdown",
      "metadata": {
        "id": "oFsvQyaO_Te-"
      },
      "source": [
        "# Problem 6\n",
        "Kullanıcıdan isim, yaş ve eğitim bilgilerini isteyip ehliyet alabilme  durumunu kontrol ediniz. \n",
        "\n",
        "Ehliyet alma koşulu en az 18 yaşında ve eğitim durumu lise ya da üniversite olmalıdır. "
      ]
    },
    {
      "cell_type": "code",
      "execution_count": 18,
      "metadata": {
        "id": "Tu2mcgco_Te-"
      },
      "outputs": [
        {
          "name": "stdout",
          "output_type": "stream",
          "text": [
            "Hasan ehliyet alma hakkina sahiptir.\n"
          ]
        }
      ],
      "source": [
        "isim = input(\"İsiminizi giriniz : \")\n",
        "yas = int(input(\"Yasinizi giriniz:\"))\n",
        "egitimSev= input(\"Egitim seviyenizi giriniz Lise/Üniversite\").upper()\n",
        "\n",
        "if yas >= 18 and (egitimSev == \"LISE\"  or egitimSev == \"ÜNIVERSITE\"):\n",
        "    print(f\"{isim} ehliyet alma hakkina sahiptir.\")\n",
        "else:\n",
        "    print(f\"{isim} ehliyet alma hakkina sahip degildir.\")"
      ]
    },
    {
      "cell_type": "markdown",
      "metadata": {
        "id": "eUkxVSAE_Te_"
      },
      "source": [
        "# Problem 7\n",
        "Bir yılın artık yıl olup olmadığını kontrol etmek için bir program yazın. \n",
        "Artık yıl kuralı:\n",
        "\n",
        "a) Eğer yılın son iki basamağı (00) ile bitmiyor ve yalnızca 4'e tam bölünüyorsa artık yıldır. Ya da, \n",
        "\n",
        "b) Eğer yıl 400'e tam bölünüyorsa artık yıldır.\n",
        "\n",
        "**Örneğin**\n",
        "```\n",
        "2017 artık yıl değildir.\n",
        "1900 artık yıl değildir\n",
        "2012 artık yıldır.\n",
        "2000 artık yıldır.\n",
        "```"
      ]
    },
    {
      "cell_type": "code",
      "execution_count": 29,
      "metadata": {
        "id": "4uWh8qUL_Te_"
      },
      "outputs": [
        {
          "name": "stdout",
          "output_type": "stream",
          "text": [
            "2000 artik yildir.\n"
          ]
        }
      ],
      "source": [
        "yil = int(input(\"Hangi yildasiniz ? \"))\n",
        "\n",
        "if yil % 400 == 0  or  (yil%4 == 0 and \"00\" not in str(yil)) :\n",
        "    print(f\"{yil} artik yildir.\")\n",
        "else :\n",
        "    print(f\"{yil} artik yil degildir.\")\n"
      ]
    }
  ],
  "metadata": {
    "colab": {
      "provenance": []
    },
    "kernelspec": {
      "display_name": "Python 3.10.5 64-bit",
      "language": "python",
      "name": "python3"
    },
    "language_info": {
      "name": "python",
      "version": "3.11.1"
    },
    "orig_nbformat": 4,
    "vscode": {
      "interpreter": {
        "hash": "5026d2d6e7aaaaba093def813beadff083d8733e4a511af01735cbabd156995d"
      }
    }
  },
  "nbformat": 4,
  "nbformat_minor": 0
}
