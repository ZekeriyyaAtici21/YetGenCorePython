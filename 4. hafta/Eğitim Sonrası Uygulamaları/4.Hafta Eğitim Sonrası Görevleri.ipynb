{
 "cells": [
  {
   "cell_type": "markdown",
   "metadata": {},
   "source": [
    "# Problem 1\n",
    "`ogrenciler` adında bir sözlük oluşturunuz. Kullanıcıdan döngü yardımıyla 3 öğrenci için veri girmesini isteyerek öğrencilerin sırasıyla okul numarası, isim, soy isim, telefon numarası ve doğum tarihi bilgilerini alınız. Aldığınız öğrenci bilgilerini yine aynı döngü yardımıyla `ogrenciler` adındaki sözlükte saklayınız. Daha sonra öğrenci bilgilerinin bulunduğu sözlük yapısını ekrana bastırınız.\n",
    "\n"
   ]
  },
  {
   "cell_type": "code",
   "execution_count": 1,
   "metadata": {},
   "outputs": [
    {
     "name": "stdout",
     "output_type": "stream",
     "text": [
      "{'isim': [['Hasan', 'Merve'], 'Can'], 'soyİsim': [['Akdogan', 'Sarkaç'], 'Ekinci'], 'telefon': [['05338273377', '05451783495'], '05338782773'], 'dogumNo': [['2001', '2000'], '1998'], 'okulNo': [['19646754', '19442938'], '1827366454']}\n"
     ]
    }
   ],
   "source": [
    "ogrenciler = {}\n",
    "dic2 = {}\n",
    "dic3 = {}\n",
    "i = 0\n",
    "\n",
    "\n",
    "\n",
    "while(i<3):\n",
    "    i+=1\n",
    "    isim = input(f\"{i} öğrencinin ismini giriniz : \")\n",
    "    ogrenciler[\"isim\"] = isim\n",
    "    soyİsim = input(f\"{i} öğrencinin Soyismini giriniz : \")\n",
    "    ogrenciler[\"soyİsim\"] = soyİsim\n",
    "    telefon = input(f\"{i} öğrencinin telefon numarasını giriniz : \")\n",
    "    ogrenciler[\"telefon\"] = telefon\n",
    "    dogumNo = input(f\"{i} öğrencinin dogum yılını giriniz : \")\n",
    "    ogrenciler[\"dogumNo\"] = dogumNo\n",
    "    okulNo = input(f\"{i} öğrencinin okul numarasını giriniz : \")\n",
    "    ogrenciler[\"okulNo\"] = okulNo\n",
    "\n",
    "    if i == 1 :\n",
    "        dic2 = ogrenciler.copy()\n",
    "    elif i == 2 :\n",
    "        dic3 = ogrenciler.copy()\n",
    "\n",
    "def mergeDict(dict1, dict2):\n",
    "   \n",
    "   dict3 = {**dict1, **dict2}\n",
    "   for key, value in dict3.items():\n",
    "       if key in dict1 and key in dict2:\n",
    "               dict3[key] = [value , dict1[key]]\n",
    "   return dict3\n",
    "\n",
    "\n",
    "finalDict = mergeDict(ogrenciler, mergeDict(dic3, dic2))\n",
    "\n",
    "print(finalDict)\n",
    "\n",
    "\n"
   ]
  },
  {
   "cell_type": "markdown",
   "metadata": {},
   "source": [
    "# Problem 2\n",
    "\n",
    "### a - Biraz ısınarak başlayalım!\n",
    "\n",
    "```\n",
    "numbers = [5,10,10,15,15,15,20,20,20,20]\n",
    "```\n",
    "\n",
    "Yukarıda `numbers` adında 10 elemanlı bir liste verilmiştir. Bu listenin her elemanını kontrol eden ve tekrar eden elemanları bir kez olacak şekilde başka bir listeye kopyalayan bir program yazınız. Son olarak oluşturduğunuz listeyi ekrana bastırınız.\n",
    "\n",
    "\n",
    "\n",
    "\n",
    "```\n",
    ">Output\n",
    "[5, 10, 15, 20]\n",
    "```\n"
   ]
  },
  {
   "cell_type": "code",
   "execution_count": 45,
   "metadata": {},
   "outputs": [
    {
     "name": "stdout",
     "output_type": "stream",
     "text": [
      "[5, 10, 15, 20]\n"
     ]
    }
   ],
   "source": [
    "numbers = [5,10,10,15,15,15,20,20,20,20]\n",
    "\n",
    "for i in numbers : \n",
    "    while numbers.count(i)>1:\n",
    "        numbers.remove(i)\n",
    "print(numbers)\n",
    "\n",
    "\n",
    "#set fonksiyonu ile liste düzenlenip tekrar edilen elemanlar kolayca silinebilir \n",
    "#Bunun için yazilmasi gereken kod \n",
    "#numbers = list(set(numbers)) \n"
   ]
  },
  {
   "cell_type": "markdown",
   "metadata": {},
   "source": [
    "### 🌶️ b) Hadi işi biraz daha zorlaştıralım! \n",
    "\n",
    "\n",
    "Şimdiyse senden `numbers` isimli listedeki tekrar eden elemanları `repeatNumbers` adındaki listeye; tekrar etmeyen elemanları `uniqueNumbers`adındaki listeye kopyalayan yazmanı ve listeleri ekrana bastırmanı bekliyoruz\n",
    "\n",
    "```\n",
    ">Output\n",
    "Tekrar Eden Elemanlar: [10, 10, 15, 15, 15, 20, 20, 20, 20]\n",
    "Tekrar Etmeyen Elemanlar: [5]\n",
    "```"
   ]
  },
  {
   "cell_type": "code",
   "execution_count": 46,
   "metadata": {},
   "outputs": [
    {
     "name": "stdout",
     "output_type": "stream",
     "text": [
      "Tekrar edenler : [10, 10, 15, 15, 15, 20, 20, 20, 20]\n",
      "Tekrar Etmeyenler : [5]\n"
     ]
    }
   ],
   "source": [
    "numbers = [5,10,10,15,15,15,20,20,20,20]\n",
    "repeatNumbers=[]\n",
    "uniqueNumbers = []\n",
    "\n",
    "# Tekrar edenler için\n",
    "for say in numbers : \n",
    "    if numbers.count(say) >1 :\n",
    "        repeatNumbers.append(say)\n",
    "    else:\n",
    "        uniqueNumbers.append(say)\n",
    "print(f\"Tekrar edenler : {repeatNumbers}\\nTekrar Etmeyenler : {uniqueNumbers}\")     # sort(repeatNumbers) ile sayılar düzenlenebilir.\n"
   ]
  },
  {
   "cell_type": "markdown",
   "metadata": {},
   "source": [
    "# Problem 3\n",
    "sn1 = {1,2,3,4,5}\n",
    "\n",
    "sn2 = {4,5,6,7,8}\n",
    "\n",
    " Verilen 2 adet küme için kesişimlerini, farklarını ve birleşimlerini bulunuz. "
   ]
  },
  {
   "cell_type": "code",
   "execution_count": 2,
   "metadata": {},
   "outputs": [
    {
     "name": "stdout",
     "output_type": "stream",
     "text": [
      "{1, 2, 3, 4, 5, 6, 7, 8}\n"
     ]
    }
   ],
   "source": [
    "sn1 = {1,2,3,4,5}\n",
    "sn2 = {4,5,6,7,8}\n",
    "\n",
    "newSn1 = sn1.difference(sn2)\n",
    "newSn2 = sn2.difference(sn1)\n",
    "kesisim = sn1.intersection(sn2)\n",
    "birlesim = sn1.union(sn2)\n",
    "farklar = newSn1.union(newSn2)\n",
    "\n",
    "print(f\" Birleşim : {birlesim}\\n Farklar : {farklar}\\n Kesisim : {kesisim}\")"
   ]
  },
  {
   "cell_type": "markdown",
   "metadata": {},
   "source": [
    "# Problem 4\n",
    "\n",
    "Buradaki işlemlerimizin tamamı stringler içindir. Aşağıda verilecek olan metodlar için kendinizin örnek yaratması gerekmektedir. \n",
    "\n",
    "Örneğin `upper` için `string` değişkeni oluştururken` k = \"BAC\"` şeklinde oluşturmayınız. Bunun yerine k değişkenini `k = \"bac`\" şeklinde oluşturmanız `upper` metodundaki değişimi görebilmeniz için daha iyi olacaktır.\n",
    "\n",
    "Bütün metodlardaki değişimin gözle görülür şekilde değişimi beklenmektedir.\n",
    "\n",
    "\n",
    "1- capitalize(), lower(), upper(), swapcase(), title(), replace()\n",
    "\n",
    "2- endswith(), startswith(), find(), index(), count()\n",
    "\n",
    "3- split(), strip(), join(), islower(), isalpha(), isdigit()\n",
    "\n",
    "\n",
    "Yukarıdaki `string` metodlarındaki değişimleri görebildiğimiz bir program yazınız.\n"
   ]
  },
  {
   "cell_type": "code",
   "execution_count": 91,
   "metadata": {},
   "outputs": [
    {
     "name": "stdout",
     "output_type": "stream",
     "text": [
      "Marmaris - basharfi büyük\n",
      "\n",
      "MARMARIS -marmaris kelimesi hepsi büyük.\n",
      "\n",
      "banka -BANKA kelimesi hepsi küçük harf\n",
      "\n",
      "agAC  - - AGac kelimesi küçük harfler büyük, büyük harfler küçük oldu.\n",
      " \n",
      "AGec  -- replace ile küçük a harflerini e ye cevirdi.\n",
      "\n",
      "Ormanda Agac Kesmeye Gittim. -- cümledeki her kelime büyük harfle başlar.\n",
      " \n",
      "True  -- cümlem girilen stringle bitiyorsa True degerini döner.\n",
      "\n",
      "True  -- Cümle verilen stringle başlıyorsa True degerini döner.\n",
      "\n",
      "3 -- find girilen degerin indexini döner eger deger yoksa -1 döndürür.\n",
      "\n",
      "0 -- index find gibi degerin indexini döndürür farkı eger degeri bulamazsa Value error verir.\n",
      "\n",
      "2 -- count istediginiz degerin kaç adet oldugunu sayar ve sayı degerini döner.\n",
      "\n",
      "['ormanda', 'agac', 'Kesmeye', 'gittim.'] // split belirlediğiniz sekilde cümleyi ayırmanızı saglar.\n",
      "\n",
      "Ankara -- strip belirlediğiniz karakterleri stringinizde tamamen siler.\n",
      "\n",
      "1,2,3,4,5  -- Stringlerde join karakterlerin arasına verilen degeri yerleştirir.\n",
      "\n",
      "True -- islower, eger oge tüm harfleri lowercase ise True degerini degilse False degerini döndürür\n",
      " \n",
      "False -- isalpha string tamamen alfabetik karakterlerden oluşuyorsa True degilse False degerlerini döner.\n",
      "\n",
      "False -- isdigit string sadece rakamlardan oluşuyorsa True degilse False degerlerini döner.\n"
     ]
    }
   ],
   "source": [
    "x = \"marmaris\"\n",
    "\n",
    "#capitalize\n",
    "print(x.capitalize(),\"- basharfi büyük\\n\")\n",
    "\n",
    "#upper\n",
    "print(x.upper(), \"-marmaris kelimesi hepsi büyük.\\n\")\n",
    "\n",
    "k = \"BANKA\"\n",
    "\n",
    "#lower()\n",
    "print(k.lower(),\"-BANKA kelimesi hepsi küçük harf\\n\")\n",
    "\n",
    "j = \"AGac\"\n",
    "\n",
    "#swapcase()\n",
    "print(j.swapcase(),\" - - AGac kelimesi küçük harfler büyük, büyük harfler küçük oldu.\\n \")\n",
    "\n",
    "#replace(\"a\" , \"e\")\n",
    "print(j.replace(\"a\",\"e\"), \" -- replace ile küçük a harflerini e ye cevirdi.\\n\")\n",
    "\n",
    "y = \"ormanda agac Kesmeye gittim.\"\n",
    "\n",
    "#title()\n",
    "print(y.title(), \"-- cümledeki her kelime büyük harfle başlar.\\n \")\n",
    "\n",
    "#endswith\n",
    "print(y.endswith(\"gittim.\"),\" -- cümlem girilen stringle bitiyorsa True degerini döner.\\n\")\n",
    "\n",
    "#startswith\n",
    "print(y.startswith(\"orma\"), \" -- Cümle verilen stringle başlıyorsa True degerini döner.\\n\")\n",
    "\n",
    "#find\n",
    "print(y.find(\"a\"),\"-- find girilen degerin indexini döner eger deger yoksa -1 döndürür.\\n\")\n",
    "\n",
    "#index\n",
    "print(y.index(\"o\"), \"-- index find gibi degerin indexini döndürür farkı eger degeri bulamazsa Value error verir.\\n\" )\n",
    "\n",
    "#count\n",
    "print(x.count(\"a\"), \"-- count istediginiz degerin kaç adet oldugunu sayar ve sayı degerini döner.\\n\")\n",
    "\n",
    "#split\n",
    "print(y.split(\" \"), \"// split belirlediğiniz sekilde cümleyi ayırmanızı saglar.\\n\" )\n",
    "\n",
    "#strip\n",
    "w = \"Ankara  ...,,,,    \"\n",
    "print(w.strip(\" ,.\"), \"-- strip belirlediğiniz karakterleri stringinizde tamamen siler.\\n\")\n",
    "\n",
    "#join()\n",
    "list = [\"1\",\"2\",\"3\",\"4\",\"5\"]\n",
    "ayrac = \",\"\n",
    "print( ayrac.join(list),\" -- Stringlerde join karakterlerin arasına verilen degeri yerleştirir.\\n\")\n",
    "\n",
    "\n",
    "#islower()\n",
    "print(x.islower(), \"-- islower, eger oge tüm harfleri lowercase ise True degerini degilse False degerini döndürür\\n \")\n",
    "\n",
    "#isalpha\n",
    "print(ayrac.isalpha(), \"-- isalpha string tamamen alfabetik karakterlerden oluşuyorsa True degilse False degerlerini döner.\\n\" )\n",
    "\n",
    "#isdigit\n",
    "sayiSeri =\" 1,23,3\"\n",
    "print(sayiSeri.isdigit(),\"-- isdigit string sadece rakamlardan oluşuyorsa True degilse False degerlerini döner.\")\n",
    "\n"
   ]
  }
 ],
 "metadata": {
  "kernelspec": {
   "display_name": "Python 3.10.5 64-bit",
   "language": "python",
   "name": "python3"
  },
  "language_info": {
   "codemirror_mode": {
    "name": "ipython",
    "version": 3
   },
   "file_extension": ".py",
   "mimetype": "text/x-python",
   "name": "python",
   "nbconvert_exporter": "python",
   "pygments_lexer": "ipython3",
   "version": "3.11.1"
  },
  "orig_nbformat": 4,
  "vscode": {
   "interpreter": {
    "hash": "5026d2d6e7aaaaba093def813beadff083d8733e4a511af01735cbabd156995d"
   }
  }
 },
 "nbformat": 4,
 "nbformat_minor": 2
}
